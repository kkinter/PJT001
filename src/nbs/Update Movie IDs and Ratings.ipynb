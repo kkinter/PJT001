{
 "cells": [
  {
   "cell_type": "code",
   "execution_count": 1,
   "id": "74b7605b",
   "metadata": {},
   "outputs": [],
   "source": [
    "import setup_django\n",
    "setup_django.init()\n"
   ]
  },
  {
   "cell_type": "code",
   "execution_count": 13,
   "id": "30f5377f",
   "metadata": {},
   "outputs": [
    {
     "data": {
      "text/plain": [
       "True"
      ]
     },
     "execution_count": 13,
     "metadata": {},
     "output_type": "execute_result"
    }
   ],
   "source": [
    "from django.conf import settings\n",
    "from ratings.models import Rating\n",
    "\n",
    "LINKS_SMALL_CSV = settings.DATA_DIR / \"links_small.csv\"\n",
    "\n",
    "LINKS_SMALL_CSV.exists()"
   ]
  },
  {
   "cell_type": "code",
   "execution_count": 4,
   "id": "0cf77ef3",
   "metadata": {},
   "outputs": [
    {
     "ename": "FieldError",
     "evalue": "Field 'content_object' does not generate an automatic reverse relation and therefore cannot be used for reverse querying. If it is a GenericForeignKey, consider adding a GenericRelation.",
     "output_type": "error",
     "traceback": [
      "\u001b[1;31m---------------------------------------------------------------------------\u001b[0m",
      "\u001b[1;31mFieldError\u001b[0m                                Traceback (most recent call last)",
      "Cell \u001b[1;32mIn[4], line 1\u001b[0m\n\u001b[1;32m----> 1\u001b[0m qs \u001b[38;5;241m=\u001b[39m \u001b[43mRating\u001b[49m\u001b[38;5;241;43m.\u001b[39;49m\u001b[43mobjects\u001b[49m\u001b[38;5;241;43m.\u001b[39;49m\u001b[43mall\u001b[49m\u001b[43m(\u001b[49m\u001b[43m)\u001b[49m\u001b[38;5;241;43m.\u001b[39;49m\u001b[43mfilter\u001b[49m\u001b[43m(\u001b[49m\u001b[43mcontent_object__isnull\u001b[49m\u001b[38;5;241;43m=\u001b[39;49m\u001b[38;5;28;43;01mTrue\u001b[39;49;00m\u001b[43m)\u001b[49m\n",
      "File \u001b[1;32m~\\Desktop\\Recom\\PJT001\\venv\\Lib\\site-packages\\django\\db\\models\\query.py:1421\u001b[0m, in \u001b[0;36mQuerySet.filter\u001b[1;34m(self, *args, **kwargs)\u001b[0m\n\u001b[0;32m   1416\u001b[0m \u001b[38;5;250m\u001b[39m\u001b[38;5;124;03m\"\"\"\u001b[39;00m\n\u001b[0;32m   1417\u001b[0m \u001b[38;5;124;03mReturn a new QuerySet instance with the args ANDed to the existing\u001b[39;00m\n\u001b[0;32m   1418\u001b[0m \u001b[38;5;124;03mset.\u001b[39;00m\n\u001b[0;32m   1419\u001b[0m \u001b[38;5;124;03m\"\"\"\u001b[39;00m\n\u001b[0;32m   1420\u001b[0m \u001b[38;5;28mself\u001b[39m\u001b[38;5;241m.\u001b[39m_not_support_combined_queries(\u001b[38;5;124m\"\u001b[39m\u001b[38;5;124mfilter\u001b[39m\u001b[38;5;124m\"\u001b[39m)\n\u001b[1;32m-> 1421\u001b[0m \u001b[38;5;28;01mreturn\u001b[39;00m \u001b[38;5;28;43mself\u001b[39;49m\u001b[38;5;241;43m.\u001b[39;49m\u001b[43m_filter_or_exclude\u001b[49m\u001b[43m(\u001b[49m\u001b[38;5;28;43;01mFalse\u001b[39;49;00m\u001b[43m,\u001b[49m\u001b[43m \u001b[49m\u001b[43margs\u001b[49m\u001b[43m,\u001b[49m\u001b[43m \u001b[49m\u001b[43mkwargs\u001b[49m\u001b[43m)\u001b[49m\n",
      "File \u001b[1;32m~\\Desktop\\Recom\\PJT001\\venv\\Lib\\site-packages\\django\\db\\models\\query.py:1439\u001b[0m, in \u001b[0;36mQuerySet._filter_or_exclude\u001b[1;34m(self, negate, args, kwargs)\u001b[0m\n\u001b[0;32m   1437\u001b[0m     clone\u001b[38;5;241m.\u001b[39m_deferred_filter \u001b[38;5;241m=\u001b[39m negate, args, kwargs\n\u001b[0;32m   1438\u001b[0m \u001b[38;5;28;01melse\u001b[39;00m:\n\u001b[1;32m-> 1439\u001b[0m     \u001b[43mclone\u001b[49m\u001b[38;5;241;43m.\u001b[39;49m\u001b[43m_filter_or_exclude_inplace\u001b[49m\u001b[43m(\u001b[49m\u001b[43mnegate\u001b[49m\u001b[43m,\u001b[49m\u001b[43m \u001b[49m\u001b[43margs\u001b[49m\u001b[43m,\u001b[49m\u001b[43m \u001b[49m\u001b[43mkwargs\u001b[49m\u001b[43m)\u001b[49m\n\u001b[0;32m   1440\u001b[0m \u001b[38;5;28;01mreturn\u001b[39;00m clone\n",
      "File \u001b[1;32m~\\Desktop\\Recom\\PJT001\\venv\\Lib\\site-packages\\django\\db\\models\\query.py:1446\u001b[0m, in \u001b[0;36mQuerySet._filter_or_exclude_inplace\u001b[1;34m(self, negate, args, kwargs)\u001b[0m\n\u001b[0;32m   1444\u001b[0m     \u001b[38;5;28mself\u001b[39m\u001b[38;5;241m.\u001b[39m_query\u001b[38;5;241m.\u001b[39madd_q(\u001b[38;5;241m~\u001b[39mQ(\u001b[38;5;241m*\u001b[39margs, \u001b[38;5;241m*\u001b[39m\u001b[38;5;241m*\u001b[39mkwargs))\n\u001b[0;32m   1445\u001b[0m \u001b[38;5;28;01melse\u001b[39;00m:\n\u001b[1;32m-> 1446\u001b[0m     \u001b[38;5;28;43mself\u001b[39;49m\u001b[38;5;241;43m.\u001b[39;49m\u001b[43m_query\u001b[49m\u001b[38;5;241;43m.\u001b[39;49m\u001b[43madd_q\u001b[49m\u001b[43m(\u001b[49m\u001b[43mQ\u001b[49m\u001b[43m(\u001b[49m\u001b[38;5;241;43m*\u001b[39;49m\u001b[43margs\u001b[49m\u001b[43m,\u001b[49m\u001b[43m \u001b[49m\u001b[38;5;241;43m*\u001b[39;49m\u001b[38;5;241;43m*\u001b[39;49m\u001b[43mkwargs\u001b[49m\u001b[43m)\u001b[49m\u001b[43m)\u001b[49m\n",
      "File \u001b[1;32m~\\Desktop\\Recom\\PJT001\\venv\\Lib\\site-packages\\django\\db\\models\\sql\\query.py:1532\u001b[0m, in \u001b[0;36mQuery.add_q\u001b[1;34m(self, q_object)\u001b[0m\n\u001b[0;32m   1523\u001b[0m \u001b[38;5;66;03m# For join promotion this case is doing an AND for the added q_object\u001b[39;00m\n\u001b[0;32m   1524\u001b[0m \u001b[38;5;66;03m# and existing conditions. So, any existing inner join forces the join\u001b[39;00m\n\u001b[0;32m   1525\u001b[0m \u001b[38;5;66;03m# type to remain inner. Existing outer joins can however be demoted.\u001b[39;00m\n\u001b[0;32m   1526\u001b[0m \u001b[38;5;66;03m# (Consider case where rel_a is LOUTER and rel_a__col=1 is added - if\u001b[39;00m\n\u001b[0;32m   1527\u001b[0m \u001b[38;5;66;03m# rel_a doesn't produce any rows, then the whole condition must fail.\u001b[39;00m\n\u001b[0;32m   1528\u001b[0m \u001b[38;5;66;03m# So, demotion is OK.\u001b[39;00m\n\u001b[0;32m   1529\u001b[0m existing_inner \u001b[38;5;241m=\u001b[39m {\n\u001b[0;32m   1530\u001b[0m     a \u001b[38;5;28;01mfor\u001b[39;00m a \u001b[38;5;129;01min\u001b[39;00m \u001b[38;5;28mself\u001b[39m\u001b[38;5;241m.\u001b[39malias_map \u001b[38;5;28;01mif\u001b[39;00m \u001b[38;5;28mself\u001b[39m\u001b[38;5;241m.\u001b[39malias_map[a]\u001b[38;5;241m.\u001b[39mjoin_type \u001b[38;5;241m==\u001b[39m INNER\n\u001b[0;32m   1531\u001b[0m }\n\u001b[1;32m-> 1532\u001b[0m clause, _ \u001b[38;5;241m=\u001b[39m \u001b[38;5;28;43mself\u001b[39;49m\u001b[38;5;241;43m.\u001b[39;49m\u001b[43m_add_q\u001b[49m\u001b[43m(\u001b[49m\u001b[43mq_object\u001b[49m\u001b[43m,\u001b[49m\u001b[43m \u001b[49m\u001b[38;5;28;43mself\u001b[39;49m\u001b[38;5;241;43m.\u001b[39;49m\u001b[43mused_aliases\u001b[49m\u001b[43m)\u001b[49m\n\u001b[0;32m   1533\u001b[0m \u001b[38;5;28;01mif\u001b[39;00m clause:\n\u001b[0;32m   1534\u001b[0m     \u001b[38;5;28mself\u001b[39m\u001b[38;5;241m.\u001b[39mwhere\u001b[38;5;241m.\u001b[39madd(clause, AND)\n",
      "File \u001b[1;32m~\\Desktop\\Recom\\PJT001\\venv\\Lib\\site-packages\\django\\db\\models\\sql\\query.py:1562\u001b[0m, in \u001b[0;36mQuery._add_q\u001b[1;34m(self, q_object, used_aliases, branch_negated, current_negated, allow_joins, split_subq, check_filterable)\u001b[0m\n\u001b[0;32m   1558\u001b[0m joinpromoter \u001b[38;5;241m=\u001b[39m JoinPromoter(\n\u001b[0;32m   1559\u001b[0m     q_object\u001b[38;5;241m.\u001b[39mconnector, \u001b[38;5;28mlen\u001b[39m(q_object\u001b[38;5;241m.\u001b[39mchildren), current_negated\n\u001b[0;32m   1560\u001b[0m )\n\u001b[0;32m   1561\u001b[0m \u001b[38;5;28;01mfor\u001b[39;00m child \u001b[38;5;129;01min\u001b[39;00m q_object\u001b[38;5;241m.\u001b[39mchildren:\n\u001b[1;32m-> 1562\u001b[0m     child_clause, needed_inner \u001b[38;5;241m=\u001b[39m \u001b[38;5;28;43mself\u001b[39;49m\u001b[38;5;241;43m.\u001b[39;49m\u001b[43mbuild_filter\u001b[49m\u001b[43m(\u001b[49m\n\u001b[0;32m   1563\u001b[0m \u001b[43m        \u001b[49m\u001b[43mchild\u001b[49m\u001b[43m,\u001b[49m\n\u001b[0;32m   1564\u001b[0m \u001b[43m        \u001b[49m\u001b[43mcan_reuse\u001b[49m\u001b[38;5;241;43m=\u001b[39;49m\u001b[43mused_aliases\u001b[49m\u001b[43m,\u001b[49m\n\u001b[0;32m   1565\u001b[0m \u001b[43m        \u001b[49m\u001b[43mbranch_negated\u001b[49m\u001b[38;5;241;43m=\u001b[39;49m\u001b[43mbranch_negated\u001b[49m\u001b[43m,\u001b[49m\n\u001b[0;32m   1566\u001b[0m \u001b[43m        \u001b[49m\u001b[43mcurrent_negated\u001b[49m\u001b[38;5;241;43m=\u001b[39;49m\u001b[43mcurrent_negated\u001b[49m\u001b[43m,\u001b[49m\n\u001b[0;32m   1567\u001b[0m \u001b[43m        \u001b[49m\u001b[43mallow_joins\u001b[49m\u001b[38;5;241;43m=\u001b[39;49m\u001b[43mallow_joins\u001b[49m\u001b[43m,\u001b[49m\n\u001b[0;32m   1568\u001b[0m \u001b[43m        \u001b[49m\u001b[43msplit_subq\u001b[49m\u001b[38;5;241;43m=\u001b[39;49m\u001b[43msplit_subq\u001b[49m\u001b[43m,\u001b[49m\n\u001b[0;32m   1569\u001b[0m \u001b[43m        \u001b[49m\u001b[43mcheck_filterable\u001b[49m\u001b[38;5;241;43m=\u001b[39;49m\u001b[43mcheck_filterable\u001b[49m\u001b[43m,\u001b[49m\n\u001b[0;32m   1570\u001b[0m \u001b[43m    \u001b[49m\u001b[43m)\u001b[49m\n\u001b[0;32m   1571\u001b[0m     joinpromoter\u001b[38;5;241m.\u001b[39madd_votes(needed_inner)\n\u001b[0;32m   1572\u001b[0m     \u001b[38;5;28;01mif\u001b[39;00m child_clause:\n",
      "File \u001b[1;32m~\\Desktop\\Recom\\PJT001\\venv\\Lib\\site-packages\\django\\db\\models\\sql\\query.py:1407\u001b[0m, in \u001b[0;36mQuery.build_filter\u001b[1;34m(self, filter_expr, branch_negated, current_negated, can_reuse, allow_joins, split_subq, reuse_with_filtered_relation, check_filterable)\u001b[0m\n\u001b[0;32m   1405\u001b[0m \u001b[38;5;28;01mif\u001b[39;00m \u001b[38;5;129;01mnot\u001b[39;00m arg:\n\u001b[0;32m   1406\u001b[0m     \u001b[38;5;28;01mraise\u001b[39;00m FieldError(\u001b[38;5;124m\"\u001b[39m\u001b[38;5;124mCannot parse keyword query \u001b[39m\u001b[38;5;132;01m%r\u001b[39;00m\u001b[38;5;124m\"\u001b[39m \u001b[38;5;241m%\u001b[39m arg)\n\u001b[1;32m-> 1407\u001b[0m lookups, parts, reffed_expression \u001b[38;5;241m=\u001b[39m \u001b[38;5;28;43mself\u001b[39;49m\u001b[38;5;241;43m.\u001b[39;49m\u001b[43msolve_lookup_type\u001b[49m\u001b[43m(\u001b[49m\u001b[43marg\u001b[49m\u001b[43m)\u001b[49m\n\u001b[0;32m   1409\u001b[0m \u001b[38;5;28;01mif\u001b[39;00m check_filterable:\n\u001b[0;32m   1410\u001b[0m     \u001b[38;5;28mself\u001b[39m\u001b[38;5;241m.\u001b[39mcheck_filterable(reffed_expression)\n",
      "File \u001b[1;32m~\\Desktop\\Recom\\PJT001\\venv\\Lib\\site-packages\\django\\db\\models\\sql\\query.py:1217\u001b[0m, in \u001b[0;36mQuery.solve_lookup_type\u001b[1;34m(self, lookup)\u001b[0m\n\u001b[0;32m   1215\u001b[0m     \u001b[38;5;28;01mif\u001b[39;00m expression:\n\u001b[0;32m   1216\u001b[0m         \u001b[38;5;28;01mreturn\u001b[39;00m expression_lookups, (), expression\n\u001b[1;32m-> 1217\u001b[0m _, field, _, lookup_parts \u001b[38;5;241m=\u001b[39m \u001b[38;5;28;43mself\u001b[39;49m\u001b[38;5;241;43m.\u001b[39;49m\u001b[43mnames_to_path\u001b[49m\u001b[43m(\u001b[49m\u001b[43mlookup_splitted\u001b[49m\u001b[43m,\u001b[49m\u001b[43m \u001b[49m\u001b[38;5;28;43mself\u001b[39;49m\u001b[38;5;241;43m.\u001b[39;49m\u001b[43mget_meta\u001b[49m\u001b[43m(\u001b[49m\u001b[43m)\u001b[49m\u001b[43m)\u001b[49m\n\u001b[0;32m   1218\u001b[0m field_parts \u001b[38;5;241m=\u001b[39m lookup_splitted[\u001b[38;5;241m0\u001b[39m : \u001b[38;5;28mlen\u001b[39m(lookup_splitted) \u001b[38;5;241m-\u001b[39m \u001b[38;5;28mlen\u001b[39m(lookup_parts)]\n\u001b[0;32m   1219\u001b[0m \u001b[38;5;28;01mif\u001b[39;00m \u001b[38;5;28mlen\u001b[39m(lookup_parts) \u001b[38;5;241m>\u001b[39m \u001b[38;5;241m1\u001b[39m \u001b[38;5;129;01mand\u001b[39;00m \u001b[38;5;129;01mnot\u001b[39;00m field_parts:\n",
      "File \u001b[1;32m~\\Desktop\\Recom\\PJT001\\venv\\Lib\\site-packages\\django\\db\\models\\sql\\query.py:1685\u001b[0m, in \u001b[0;36mQuery.names_to_path\u001b[1;34m(self, names, opts, allow_many, fail_on_missing)\u001b[0m\n\u001b[0;32m   1680\u001b[0m \u001b[38;5;28;01mif\u001b[39;00m field \u001b[38;5;129;01mis\u001b[39;00m \u001b[38;5;129;01mnot\u001b[39;00m \u001b[38;5;28;01mNone\u001b[39;00m:\n\u001b[0;32m   1681\u001b[0m     \u001b[38;5;66;03m# Fields that contain one-to-many relations with a generic\u001b[39;00m\n\u001b[0;32m   1682\u001b[0m     \u001b[38;5;66;03m# model (like a GenericForeignKey) cannot generate reverse\u001b[39;00m\n\u001b[0;32m   1683\u001b[0m     \u001b[38;5;66;03m# relations and therefore cannot be used for reverse querying.\u001b[39;00m\n\u001b[0;32m   1684\u001b[0m     \u001b[38;5;28;01mif\u001b[39;00m field\u001b[38;5;241m.\u001b[39mis_relation \u001b[38;5;129;01mand\u001b[39;00m \u001b[38;5;129;01mnot\u001b[39;00m field\u001b[38;5;241m.\u001b[39mrelated_model:\n\u001b[1;32m-> 1685\u001b[0m         \u001b[38;5;28;01mraise\u001b[39;00m FieldError(\n\u001b[0;32m   1686\u001b[0m             \u001b[38;5;124m\"\u001b[39m\u001b[38;5;124mField \u001b[39m\u001b[38;5;132;01m%r\u001b[39;00m\u001b[38;5;124m does not generate an automatic reverse \u001b[39m\u001b[38;5;124m\"\u001b[39m\n\u001b[0;32m   1687\u001b[0m             \u001b[38;5;124m\"\u001b[39m\u001b[38;5;124mrelation and therefore cannot be used for reverse \u001b[39m\u001b[38;5;124m\"\u001b[39m\n\u001b[0;32m   1688\u001b[0m             \u001b[38;5;124m\"\u001b[39m\u001b[38;5;124mquerying. If it is a GenericForeignKey, consider \u001b[39m\u001b[38;5;124m\"\u001b[39m\n\u001b[0;32m   1689\u001b[0m             \u001b[38;5;124m\"\u001b[39m\u001b[38;5;124madding a GenericRelation.\u001b[39m\u001b[38;5;124m\"\u001b[39m \u001b[38;5;241m%\u001b[39m name\n\u001b[0;32m   1690\u001b[0m         )\n\u001b[0;32m   1691\u001b[0m     \u001b[38;5;28;01mtry\u001b[39;00m:\n\u001b[0;32m   1692\u001b[0m         model \u001b[38;5;241m=\u001b[39m field\u001b[38;5;241m.\u001b[39mmodel\u001b[38;5;241m.\u001b[39m_meta\u001b[38;5;241m.\u001b[39mconcrete_model\n",
      "\u001b[1;31mFieldError\u001b[0m: Field 'content_object' does not generate an automatic reverse relation and therefore cannot be used for reverse querying. If it is a GenericForeignKey, consider adding a GenericRelation."
     ]
    }
   ],
   "source": [
    "qs = Rating.objects.all().filter(content_object__isnull=True)"
   ]
  },
  {
   "cell_type": "code",
   "execution_count": 5,
   "id": "23ae0b5e",
   "metadata": {},
   "outputs": [],
   "source": [
    "qs = Rating.objects.all()"
   ]
  },
  {
   "cell_type": "code",
   "execution_count": 10,
   "id": "b6f24cb7",
   "metadata": {},
   "outputs": [
    {
     "name": "stdout",
     "output_type": "stream",
     "text": [
      "6468 57858\n"
     ]
    }
   ],
   "source": [
    "missing_movie_ids = []\n",
    "for instance in qs:\n",
    "    if instance.content_object is None:\n",
    "        missing_movie_ids.append(instance.object_id)\n",
    "        \n",
    "\n",
    "_total = len(missing_movie_ids)\n",
    "total_missing = list(set(missing_movie_ids))\n",
    "print(len(total_missing), _total)"
   ]
  },
  {
   "cell_type": "code",
   "execution_count": 14,
   "id": "78f0c404",
   "metadata": {},
   "outputs": [],
   "source": [
    "import pandas as pd"
   ]
  },
  {
   "cell_type": "code",
   "execution_count": 15,
   "id": "1f9d3a7a",
   "metadata": {},
   "outputs": [
    {
     "data": {
      "text/html": [
       "<div>\n",
       "<style scoped>\n",
       "    .dataframe tbody tr th:only-of-type {\n",
       "        vertical-align: middle;\n",
       "    }\n",
       "\n",
       "    .dataframe tbody tr th {\n",
       "        vertical-align: top;\n",
       "    }\n",
       "\n",
       "    .dataframe thead th {\n",
       "        text-align: right;\n",
       "    }\n",
       "</style>\n",
       "<table border=\"1\" class=\"dataframe\">\n",
       "  <thead>\n",
       "    <tr style=\"text-align: right;\">\n",
       "      <th></th>\n",
       "      <th>movieId</th>\n",
       "      <th>imdbId</th>\n",
       "      <th>tmdbId</th>\n",
       "    </tr>\n",
       "  </thead>\n",
       "  <tbody>\n",
       "    <tr>\n",
       "      <th>0</th>\n",
       "      <td>1</td>\n",
       "      <td>114709</td>\n",
       "      <td>862.0</td>\n",
       "    </tr>\n",
       "    <tr>\n",
       "      <th>1</th>\n",
       "      <td>2</td>\n",
       "      <td>113497</td>\n",
       "      <td>8844.0</td>\n",
       "    </tr>\n",
       "    <tr>\n",
       "      <th>2</th>\n",
       "      <td>3</td>\n",
       "      <td>113228</td>\n",
       "      <td>15602.0</td>\n",
       "    </tr>\n",
       "    <tr>\n",
       "      <th>3</th>\n",
       "      <td>4</td>\n",
       "      <td>114885</td>\n",
       "      <td>31357.0</td>\n",
       "    </tr>\n",
       "    <tr>\n",
       "      <th>4</th>\n",
       "      <td>5</td>\n",
       "      <td>113041</td>\n",
       "      <td>11862.0</td>\n",
       "    </tr>\n",
       "  </tbody>\n",
       "</table>\n",
       "</div>"
      ],
      "text/plain": [
       "   movieId  imdbId   tmdbId\n",
       "0        1  114709    862.0\n",
       "1        2  113497   8844.0\n",
       "2        3  113228  15602.0\n",
       "3        4  114885  31357.0\n",
       "4        5  113041  11862.0"
      ]
     },
     "execution_count": 15,
     "metadata": {},
     "output_type": "execute_result"
    }
   ],
   "source": [
    "links_df = pd.read_csv(LINKS_SMALL_CSV)\n",
    "links_df.head()"
   ]
  },
  {
   "cell_type": "code",
   "execution_count": 17,
   "id": "4cd97dba",
   "metadata": {},
   "outputs": [
    {
     "data": {
      "text/html": [
       "<div>\n",
       "<style scoped>\n",
       "    .dataframe tbody tr th:only-of-type {\n",
       "        vertical-align: middle;\n",
       "    }\n",
       "\n",
       "    .dataframe tbody tr th {\n",
       "        vertical-align: top;\n",
       "    }\n",
       "\n",
       "    .dataframe thead th {\n",
       "        text-align: right;\n",
       "    }\n",
       "</style>\n",
       "<table border=\"1\" class=\"dataframe\">\n",
       "  <thead>\n",
       "    <tr style=\"text-align: right;\">\n",
       "      <th></th>\n",
       "      <th>movieId</th>\n",
       "      <th>imdbId</th>\n",
       "      <th>tmdbId</th>\n",
       "    </tr>\n",
       "  </thead>\n",
       "  <tbody>\n",
       "    <tr>\n",
       "      <th>0</th>\n",
       "      <td>1</td>\n",
       "      <td>114709</td>\n",
       "      <td>862.0</td>\n",
       "    </tr>\n",
       "    <tr>\n",
       "      <th>3</th>\n",
       "      <td>4</td>\n",
       "      <td>114885</td>\n",
       "      <td>31357.0</td>\n",
       "    </tr>\n",
       "    <tr>\n",
       "      <th>6</th>\n",
       "      <td>7</td>\n",
       "      <td>114319</td>\n",
       "      <td>11860.0</td>\n",
       "    </tr>\n",
       "    <tr>\n",
       "      <th>7</th>\n",
       "      <td>8</td>\n",
       "      <td>112302</td>\n",
       "      <td>45325.0</td>\n",
       "    </tr>\n",
       "    <tr>\n",
       "      <th>8</th>\n",
       "      <td>9</td>\n",
       "      <td>114576</td>\n",
       "      <td>9091.0</td>\n",
       "    </tr>\n",
       "  </tbody>\n",
       "</table>\n",
       "</div>"
      ],
      "text/plain": [
       "   movieId  imdbId   tmdbId\n",
       "0        1  114709    862.0\n",
       "3        4  114885  31357.0\n",
       "6        7  114319  11860.0\n",
       "7        8  112302  45325.0\n",
       "8        9  114576   9091.0"
      ]
     },
     "execution_count": 17,
     "metadata": {},
     "output_type": "execute_result"
    }
   ],
   "source": [
    "ms_df = links_df.copy()[links_df.movieId.isin(total_missing)]\n",
    "ms_df.head()"
   ]
  },
  {
   "cell_type": "code",
   "execution_count": 20,
   "id": "3ee1ad6a",
   "metadata": {},
   "outputs": [
    {
     "data": {
      "text/plain": [
       "(6468, 3)"
      ]
     },
     "execution_count": 20,
     "metadata": {},
     "output_type": "execute_result"
    }
   ],
   "source": [
    "ms_df.shape"
   ]
  },
  {
   "cell_type": "code",
   "execution_count": 21,
   "id": "4476ad24",
   "metadata": {},
   "outputs": [
    {
     "data": {
      "text/plain": [
       "True"
      ]
     },
     "execution_count": 21,
     "metadata": {},
     "output_type": "execute_result"
    }
   ],
   "source": [
    "ms_df.shape[0] == len(total_missing)"
   ]
  },
  {
   "cell_type": "code",
   "execution_count": 23,
   "id": "0aee068a",
   "metadata": {},
   "outputs": [],
   "source": [
    "def enrich_imdb_col(val):\n",
    "    val = str(val)\n",
    "    if len(val) == 7:\n",
    "        val = f\"tt{val}\"\n",
    "        return val\n",
    "    if len(val) == 6:\n",
    "        val = f\"tt0{val}\"\n",
    "        return val\n",
    "    if len(val) == 5:\n",
    "        val = f\"tt00{val}\"\n",
    "        return val\n",
    "    return val\n",
    "        "
   ]
  },
  {
   "cell_type": "code",
   "execution_count": 24,
   "id": "05cbf8c3",
   "metadata": {},
   "outputs": [
    {
     "data": {
      "text/html": [
       "<div>\n",
       "<style scoped>\n",
       "    .dataframe tbody tr th:only-of-type {\n",
       "        vertical-align: middle;\n",
       "    }\n",
       "\n",
       "    .dataframe tbody tr th {\n",
       "        vertical-align: top;\n",
       "    }\n",
       "\n",
       "    .dataframe thead th {\n",
       "        text-align: right;\n",
       "    }\n",
       "</style>\n",
       "<table border=\"1\" class=\"dataframe\">\n",
       "  <thead>\n",
       "    <tr style=\"text-align: right;\">\n",
       "      <th></th>\n",
       "      <th>movieId</th>\n",
       "      <th>imdbId</th>\n",
       "      <th>tmdbId</th>\n",
       "      <th>tt</th>\n",
       "    </tr>\n",
       "  </thead>\n",
       "  <tbody>\n",
       "    <tr>\n",
       "      <th>0</th>\n",
       "      <td>1</td>\n",
       "      <td>114709</td>\n",
       "      <td>862.0</td>\n",
       "      <td>tt0114709</td>\n",
       "    </tr>\n",
       "    <tr>\n",
       "      <th>3</th>\n",
       "      <td>4</td>\n",
       "      <td>114885</td>\n",
       "      <td>31357.0</td>\n",
       "      <td>tt0114885</td>\n",
       "    </tr>\n",
       "    <tr>\n",
       "      <th>6</th>\n",
       "      <td>7</td>\n",
       "      <td>114319</td>\n",
       "      <td>11860.0</td>\n",
       "      <td>tt0114319</td>\n",
       "    </tr>\n",
       "    <tr>\n",
       "      <th>7</th>\n",
       "      <td>8</td>\n",
       "      <td>112302</td>\n",
       "      <td>45325.0</td>\n",
       "      <td>tt0112302</td>\n",
       "    </tr>\n",
       "    <tr>\n",
       "      <th>8</th>\n",
       "      <td>9</td>\n",
       "      <td>114576</td>\n",
       "      <td>9091.0</td>\n",
       "      <td>tt0114576</td>\n",
       "    </tr>\n",
       "  </tbody>\n",
       "</table>\n",
       "</div>"
      ],
      "text/plain": [
       "   movieId  imdbId   tmdbId         tt\n",
       "0        1  114709    862.0  tt0114709\n",
       "3        4  114885  31357.0  tt0114885\n",
       "6        7  114319  11860.0  tt0114319\n",
       "7        8  112302  45325.0  tt0112302\n",
       "8        9  114576   9091.0  tt0114576"
      ]
     },
     "execution_count": 24,
     "metadata": {},
     "output_type": "execute_result"
    }
   ],
   "source": [
    "ms_df['tt'] = ms_df['imdbId'].apply(enrich_imdb_col)\n",
    "\n",
    "ms_df.head()"
   ]
  },
  {
   "cell_type": "code",
   "execution_count": 25,
   "id": "470de1e4",
   "metadata": {},
   "outputs": [
    {
     "data": {
      "text/plain": [
       "True"
      ]
     },
     "execution_count": 25,
     "metadata": {},
     "output_type": "execute_result"
    }
   ],
   "source": [
    "MOVIES_CSV = settings.DATA_DIR / \"movies_metadata.csv\"\n",
    "\n",
    "MOVIES_CSV.exists()"
   ]
  },
  {
   "cell_type": "code",
   "execution_count": 26,
   "id": "76794804",
   "metadata": {},
   "outputs": [
    {
     "data": {
      "text/html": [
       "<div>\n",
       "<style scoped>\n",
       "    .dataframe tbody tr th:only-of-type {\n",
       "        vertical-align: middle;\n",
       "    }\n",
       "\n",
       "    .dataframe tbody tr th {\n",
       "        vertical-align: top;\n",
       "    }\n",
       "\n",
       "    .dataframe thead th {\n",
       "        text-align: right;\n",
       "    }\n",
       "</style>\n",
       "<table border=\"1\" class=\"dataframe\">\n",
       "  <thead>\n",
       "    <tr style=\"text-align: right;\">\n",
       "      <th></th>\n",
       "      <th>imdb_id</th>\n",
       "      <th>overview</th>\n",
       "      <th>release_date</th>\n",
       "      <th>title</th>\n",
       "    </tr>\n",
       "  </thead>\n",
       "  <tbody>\n",
       "    <tr>\n",
       "      <th>0</th>\n",
       "      <td>tt0114709</td>\n",
       "      <td>Led by Woody, Andy's toys live happily in his ...</td>\n",
       "      <td>1995-10-30</td>\n",
       "      <td>Toy Story</td>\n",
       "    </tr>\n",
       "    <tr>\n",
       "      <th>1</th>\n",
       "      <td>tt0113497</td>\n",
       "      <td>When siblings Judy and Peter discover an encha...</td>\n",
       "      <td>1995-12-15</td>\n",
       "      <td>Jumanji</td>\n",
       "    </tr>\n",
       "    <tr>\n",
       "      <th>2</th>\n",
       "      <td>tt0113228</td>\n",
       "      <td>A family wedding reignites the ancient feud be...</td>\n",
       "      <td>1995-12-22</td>\n",
       "      <td>Grumpier Old Men</td>\n",
       "    </tr>\n",
       "    <tr>\n",
       "      <th>3</th>\n",
       "      <td>tt0114885</td>\n",
       "      <td>Cheated on, mistreated and stepped on, the wom...</td>\n",
       "      <td>1995-12-22</td>\n",
       "      <td>Waiting to Exhale</td>\n",
       "    </tr>\n",
       "    <tr>\n",
       "      <th>4</th>\n",
       "      <td>tt0113041</td>\n",
       "      <td>Just when George Banks has recovered from his ...</td>\n",
       "      <td>1995-02-10</td>\n",
       "      <td>Father of the Bride Part II</td>\n",
       "    </tr>\n",
       "  </tbody>\n",
       "</table>\n",
       "</div>"
      ],
      "text/plain": [
       "     imdb_id                                           overview release_date  \\\n",
       "0  tt0114709  Led by Woody, Andy's toys live happily in his ...   1995-10-30   \n",
       "1  tt0113497  When siblings Judy and Peter discover an encha...   1995-12-15   \n",
       "2  tt0113228  A family wedding reignites the ancient feud be...   1995-12-22   \n",
       "3  tt0114885  Cheated on, mistreated and stepped on, the wom...   1995-12-22   \n",
       "4  tt0113041  Just when George Banks has recovered from his ...   1995-02-10   \n",
       "\n",
       "                         title  \n",
       "0                    Toy Story  \n",
       "1                      Jumanji  \n",
       "2             Grumpier Old Men  \n",
       "3            Waiting to Exhale  \n",
       "4  Father of the Bride Part II  "
      ]
     },
     "execution_count": 26,
     "metadata": {},
     "output_type": "execute_result"
    }
   ],
   "source": [
    "movies_cols = ['title', 'overview', 'release_date', 'imdb_id']\n",
    "movies_df = pd.read_csv(MOVIES_CSV, usecols=movies_cols)\n",
    "movies_df.head()"
   ]
  },
  {
   "cell_type": "code",
   "execution_count": 27,
   "id": "19351121",
   "metadata": {},
   "outputs": [
    {
     "data": {
      "text/html": [
       "<div>\n",
       "<style scoped>\n",
       "    .dataframe tbody tr th:only-of-type {\n",
       "        vertical-align: middle;\n",
       "    }\n",
       "\n",
       "    .dataframe tbody tr th {\n",
       "        vertical-align: top;\n",
       "    }\n",
       "\n",
       "    .dataframe thead th {\n",
       "        text-align: right;\n",
       "    }\n",
       "</style>\n",
       "<table border=\"1\" class=\"dataframe\">\n",
       "  <thead>\n",
       "    <tr style=\"text-align: right;\">\n",
       "      <th></th>\n",
       "      <th>movieId</th>\n",
       "      <th>imdbId</th>\n",
       "      <th>tmdbId</th>\n",
       "      <th>tt</th>\n",
       "      <th>imdb_id</th>\n",
       "      <th>overview</th>\n",
       "      <th>release_date</th>\n",
       "      <th>title</th>\n",
       "    </tr>\n",
       "  </thead>\n",
       "  <tbody>\n",
       "    <tr>\n",
       "      <th>0</th>\n",
       "      <td>1</td>\n",
       "      <td>114709</td>\n",
       "      <td>862.0</td>\n",
       "      <td>tt0114709</td>\n",
       "      <td>tt0114709</td>\n",
       "      <td>Led by Woody, Andy's toys live happily in his ...</td>\n",
       "      <td>1995-10-30</td>\n",
       "      <td>Toy Story</td>\n",
       "    </tr>\n",
       "    <tr>\n",
       "      <th>1</th>\n",
       "      <td>4</td>\n",
       "      <td>114885</td>\n",
       "      <td>31357.0</td>\n",
       "      <td>tt0114885</td>\n",
       "      <td>tt0114885</td>\n",
       "      <td>Cheated on, mistreated and stepped on, the wom...</td>\n",
       "      <td>1995-12-22</td>\n",
       "      <td>Waiting to Exhale</td>\n",
       "    </tr>\n",
       "    <tr>\n",
       "      <th>2</th>\n",
       "      <td>7</td>\n",
       "      <td>114319</td>\n",
       "      <td>11860.0</td>\n",
       "      <td>tt0114319</td>\n",
       "      <td>tt0114319</td>\n",
       "      <td>An ugly duckling having undergone a remarkable...</td>\n",
       "      <td>1995-12-15</td>\n",
       "      <td>Sabrina</td>\n",
       "    </tr>\n",
       "    <tr>\n",
       "      <th>3</th>\n",
       "      <td>8</td>\n",
       "      <td>112302</td>\n",
       "      <td>45325.0</td>\n",
       "      <td>tt0112302</td>\n",
       "      <td>tt0112302</td>\n",
       "      <td>A mischievous young boy, Tom Sawyer, witnesses...</td>\n",
       "      <td>1995-12-22</td>\n",
       "      <td>Tom and Huck</td>\n",
       "    </tr>\n",
       "    <tr>\n",
       "      <th>4</th>\n",
       "      <td>9</td>\n",
       "      <td>114576</td>\n",
       "      <td>9091.0</td>\n",
       "      <td>tt0114576</td>\n",
       "      <td>tt0114576</td>\n",
       "      <td>International action superstar Jean Claude Van...</td>\n",
       "      <td>1995-12-22</td>\n",
       "      <td>Sudden Death</td>\n",
       "    </tr>\n",
       "  </tbody>\n",
       "</table>\n",
       "</div>"
      ],
      "text/plain": [
       "   movieId  imdbId   tmdbId         tt    imdb_id  \\\n",
       "0        1  114709    862.0  tt0114709  tt0114709   \n",
       "1        4  114885  31357.0  tt0114885  tt0114885   \n",
       "2        7  114319  11860.0  tt0114319  tt0114319   \n",
       "3        8  112302  45325.0  tt0112302  tt0112302   \n",
       "4        9  114576   9091.0  tt0114576  tt0114576   \n",
       "\n",
       "                                            overview release_date  \\\n",
       "0  Led by Woody, Andy's toys live happily in his ...   1995-10-30   \n",
       "1  Cheated on, mistreated and stepped on, the wom...   1995-12-22   \n",
       "2  An ugly duckling having undergone a remarkable...   1995-12-15   \n",
       "3  A mischievous young boy, Tom Sawyer, witnesses...   1995-12-22   \n",
       "4  International action superstar Jean Claude Van...   1995-12-22   \n",
       "\n",
       "               title  \n",
       "0          Toy Story  \n",
       "1  Waiting to Exhale  \n",
       "2            Sabrina  \n",
       "3       Tom and Huck  \n",
       "4       Sudden Death  "
      ]
     },
     "execution_count": 27,
     "metadata": {},
     "output_type": "execute_result"
    }
   ],
   "source": [
    "missing_movies_df = ms_df.merge(movies_df, left_on='tt', right_on='imdb_id')\n",
    "missing_movies_df.head()"
   ]
  },
  {
   "cell_type": "code",
   "execution_count": 30,
   "id": "e7da06ca",
   "metadata": {},
   "outputs": [
    {
     "data": {
      "text/html": [
       "<div>\n",
       "<style scoped>\n",
       "    .dataframe tbody tr th:only-of-type {\n",
       "        vertical-align: middle;\n",
       "    }\n",
       "\n",
       "    .dataframe tbody tr th {\n",
       "        vertical-align: top;\n",
       "    }\n",
       "\n",
       "    .dataframe thead th {\n",
       "        text-align: right;\n",
       "    }\n",
       "</style>\n",
       "<table border=\"1\" class=\"dataframe\">\n",
       "  <thead>\n",
       "    <tr style=\"text-align: right;\">\n",
       "      <th></th>\n",
       "      <th>movieId</th>\n",
       "      <th>imdbId</th>\n",
       "      <th>tmdbId</th>\n",
       "      <th>tt</th>\n",
       "      <th>imdb_id</th>\n",
       "      <th>overview</th>\n",
       "      <th>release_date</th>\n",
       "      <th>title</th>\n",
       "      <th>id</th>\n",
       "      <th>id_alt</th>\n",
       "    </tr>\n",
       "  </thead>\n",
       "  <tbody>\n",
       "    <tr>\n",
       "      <th>0</th>\n",
       "      <td>1</td>\n",
       "      <td>114709</td>\n",
       "      <td>862.0</td>\n",
       "      <td>tt0114709</td>\n",
       "      <td>tt0114709</td>\n",
       "      <td>Led by Woody, Andy's toys live happily in his ...</td>\n",
       "      <td>1995-10-30</td>\n",
       "      <td>Toy Story</td>\n",
       "      <td>1</td>\n",
       "      <td>862</td>\n",
       "    </tr>\n",
       "    <tr>\n",
       "      <th>1</th>\n",
       "      <td>4</td>\n",
       "      <td>114885</td>\n",
       "      <td>31357.0</td>\n",
       "      <td>tt0114885</td>\n",
       "      <td>tt0114885</td>\n",
       "      <td>Cheated on, mistreated and stepped on, the wom...</td>\n",
       "      <td>1995-12-22</td>\n",
       "      <td>Waiting to Exhale</td>\n",
       "      <td>4</td>\n",
       "      <td>31357</td>\n",
       "    </tr>\n",
       "    <tr>\n",
       "      <th>2</th>\n",
       "      <td>7</td>\n",
       "      <td>114319</td>\n",
       "      <td>11860.0</td>\n",
       "      <td>tt0114319</td>\n",
       "      <td>tt0114319</td>\n",
       "      <td>An ugly duckling having undergone a remarkable...</td>\n",
       "      <td>1995-12-15</td>\n",
       "      <td>Sabrina</td>\n",
       "      <td>7</td>\n",
       "      <td>11860</td>\n",
       "    </tr>\n",
       "    <tr>\n",
       "      <th>3</th>\n",
       "      <td>8</td>\n",
       "      <td>112302</td>\n",
       "      <td>45325.0</td>\n",
       "      <td>tt0112302</td>\n",
       "      <td>tt0112302</td>\n",
       "      <td>A mischievous young boy, Tom Sawyer, witnesses...</td>\n",
       "      <td>1995-12-22</td>\n",
       "      <td>Tom and Huck</td>\n",
       "      <td>8</td>\n",
       "      <td>45325</td>\n",
       "    </tr>\n",
       "    <tr>\n",
       "      <th>4</th>\n",
       "      <td>9</td>\n",
       "      <td>114576</td>\n",
       "      <td>9091.0</td>\n",
       "      <td>tt0114576</td>\n",
       "      <td>tt0114576</td>\n",
       "      <td>International action superstar Jean Claude Van...</td>\n",
       "      <td>1995-12-22</td>\n",
       "      <td>Sudden Death</td>\n",
       "      <td>9</td>\n",
       "      <td>9091</td>\n",
       "    </tr>\n",
       "  </tbody>\n",
       "</table>\n",
       "</div>"
      ],
      "text/plain": [
       "   movieId  imdbId   tmdbId         tt    imdb_id  \\\n",
       "0        1  114709    862.0  tt0114709  tt0114709   \n",
       "1        4  114885  31357.0  tt0114885  tt0114885   \n",
       "2        7  114319  11860.0  tt0114319  tt0114319   \n",
       "3        8  112302  45325.0  tt0112302  tt0112302   \n",
       "4        9  114576   9091.0  tt0114576  tt0114576   \n",
       "\n",
       "                                            overview release_date  \\\n",
       "0  Led by Woody, Andy's toys live happily in his ...   1995-10-30   \n",
       "1  Cheated on, mistreated and stepped on, the wom...   1995-12-22   \n",
       "2  An ugly duckling having undergone a remarkable...   1995-12-15   \n",
       "3  A mischievous young boy, Tom Sawyer, witnesses...   1995-12-22   \n",
       "4  International action superstar Jean Claude Van...   1995-12-22   \n",
       "\n",
       "               title  id id_alt  \n",
       "0          Toy Story   1    862  \n",
       "1  Waiting to Exhale   4  31357  \n",
       "2            Sabrina   7  11860  \n",
       "3       Tom and Huck   8  45325  \n",
       "4       Sudden Death   9   9091  "
      ]
     },
     "execution_count": 30,
     "metadata": {},
     "output_type": "execute_result"
    }
   ],
   "source": [
    "missing_movies_df['id'] = missing_movies_df['movieId']\n",
    "missing_movies_df['id_alt'] = missing_movies_df['tmdbId'].apply(lambda x: str(int(x)))\n",
    "missing_movies_df.head()"
   ]
  },
  {
   "cell_type": "code",
   "execution_count": 32,
   "id": "008804b2",
   "metadata": {},
   "outputs": [
    {
     "data": {
      "text/html": [
       "<div>\n",
       "<style scoped>\n",
       "    .dataframe tbody tr th:only-of-type {\n",
       "        vertical-align: middle;\n",
       "    }\n",
       "\n",
       "    .dataframe tbody tr th {\n",
       "        vertical-align: top;\n",
       "    }\n",
       "\n",
       "    .dataframe thead th {\n",
       "        text-align: right;\n",
       "    }\n",
       "</style>\n",
       "<table border=\"1\" class=\"dataframe\">\n",
       "  <thead>\n",
       "    <tr style=\"text-align: right;\">\n",
       "      <th></th>\n",
       "      <th>id</th>\n",
       "      <th>id_alt</th>\n",
       "      <th>title</th>\n",
       "    </tr>\n",
       "  </thead>\n",
       "  <tbody>\n",
       "    <tr>\n",
       "      <th>0</th>\n",
       "      <td>1</td>\n",
       "      <td>862</td>\n",
       "      <td>Toy Story</td>\n",
       "    </tr>\n",
       "    <tr>\n",
       "      <th>1</th>\n",
       "      <td>4</td>\n",
       "      <td>31357</td>\n",
       "      <td>Waiting to Exhale</td>\n",
       "    </tr>\n",
       "    <tr>\n",
       "      <th>2</th>\n",
       "      <td>7</td>\n",
       "      <td>11860</td>\n",
       "      <td>Sabrina</td>\n",
       "    </tr>\n",
       "    <tr>\n",
       "      <th>3</th>\n",
       "      <td>8</td>\n",
       "      <td>45325</td>\n",
       "      <td>Tom and Huck</td>\n",
       "    </tr>\n",
       "    <tr>\n",
       "      <th>4</th>\n",
       "      <td>9</td>\n",
       "      <td>9091</td>\n",
       "      <td>Sudden Death</td>\n",
       "    </tr>\n",
       "  </tbody>\n",
       "</table>\n",
       "</div>"
      ],
      "text/plain": [
       "   id id_alt              title\n",
       "0   1    862          Toy Story\n",
       "1   4  31357  Waiting to Exhale\n",
       "2   7  11860            Sabrina\n",
       "3   8  45325       Tom and Huck\n",
       "4   9   9091       Sudden Death"
      ]
     },
     "execution_count": 32,
     "metadata": {},
     "output_type": "execute_result"
    }
   ],
   "source": [
    "final_df = missing_movies_df.copy()[['id', 'id_alt', 'title']]\n",
    "final_df.head()"
   ]
  },
  {
   "cell_type": "code",
   "execution_count": 37,
   "id": "216013d7",
   "metadata": {},
   "outputs": [],
   "source": [
    "alt_id_list = final_df['id_alt'].to_list()"
   ]
  },
  {
   "cell_type": "code",
   "execution_count": 34,
   "id": "640a4a3e",
   "metadata": {},
   "outputs": [],
   "source": [
    "from movies.models import Movie"
   ]
  },
  {
   "cell_type": "code",
   "execution_count": 39,
   "id": "cd6ba43b",
   "metadata": {},
   "outputs": [
    {
     "data": {
      "text/plain": [
       "6103"
      ]
     },
     "execution_count": 39,
     "metadata": {},
     "output_type": "execute_result"
    }
   ],
   "source": [
    "movies_qs = Movie.objects.filter(id__in=alt_id_list)\n",
    "movies_qs.count()"
   ]
  },
  {
   "cell_type": "code",
   "execution_count": 40,
   "id": "7d0d3feb",
   "metadata": {},
   "outputs": [],
   "source": [
    "from django.forms.models import model_to_dict"
   ]
  },
  {
   "cell_type": "code",
   "execution_count": 43,
   "id": "a59096b2",
   "metadata": {},
   "outputs": [
    {
     "name": "stdout",
     "output_type": "stream",
     "text": [
      "{'id': 2, 'title': 'Ariel', 'overview': \"Taisto Kasurinen is a Finnish coal miner whose father has just committed suicide and who is framed for a crime he did not commit. In jail, he starts to dream about leaving the country and starting a new life. He escapes from prison but things don't go as planned...\", 'release_date': datetime.date(1988, 10, 21), 'rating_last_updated': datetime.datetime(2023, 3, 29, 6, 21, 3, 825242, tzinfo=datetime.timezone.utc), 'rating_count': 107, 'rating_avg': Decimal('3.49')}\n"
     ]
    }
   ],
   "source": [
    "for obj in movies_qs[:1]:\n",
    "    data = final_df.copy()[final_df['id_alt'] == str(obj.id)]\n",
    "    if data.shape[0] == 1:\n",
    "        og_model_data = model_to_dict(obj)\n",
    "        print(og_model_data)\n",
    "        #print(obj.id, data.shape)"
   ]
  },
  {
   "cell_type": "code",
   "execution_count": 46,
   "id": "599f609d",
   "metadata": {},
   "outputs": [
    {
     "name": "stdout",
     "output_type": "stream",
     "text": [
      "{'id': 2, 'title': 'Ariel', 'overview': \"Taisto Kasurinen is a Finnish coal miner whose father has just committed suicide and who is framed for a crime he did not commit. In jail, he starts to dream about leaving the country and starting a new life. He escapes from prison but things don't go as planned...\", 'release_date': datetime.date(1988, 10, 21), 'rating_last_updated': datetime.datetime(2023, 3, 29, 6, 21, 3, 825242, tzinfo=datetime.timezone.utc), 'rating_count': 107, 'rating_avg': Decimal('3.49')}\n",
      "{'id': 4470, 'id_alt': '2', 'title': 'Ariel'}\n"
     ]
    }
   ],
   "source": [
    "for obj in movies_qs[:1]:\n",
    "    data = final_df.copy()[final_df['id_alt'] == str(obj.id)]\n",
    "    if data.shape[0] == 1:\n",
    "        og_model_data = model_to_dict(obj)\n",
    "        update_data = data.to_dict('records')[0]\n",
    "        print(og_model_data)\n",
    "        print(update_data)\n",
    "        #print(obj.id, data.shape)"
   ]
  },
  {
   "cell_type": "code",
   "execution_count": 50,
   "id": "ab8c2e81",
   "metadata": {
    "scrolled": true
   },
   "outputs": [
    {
     "name": "stdout",
     "output_type": "stream",
     "text": [
      "{'id': 2, 'title': 'Ariel', 'overview': \"Taisto Kasurinen is a Finnish coal miner whose father has just committed suicide and who is framed for a crime he did not commit. In jail, he starts to dream about leaving the country and starting a new life. He escapes from prison but things don't go as planned...\", 'release_date': datetime.date(1988, 10, 21), 'rating_last_updated': datetime.datetime(2023, 3, 29, 6, 21, 3, 825242, tzinfo=datetime.timezone.utc), 'rating_count': 107, 'rating_avg': Decimal('3.49')}\n",
      "{'id': 4470, 'title': 'Ariel', 'overview': \"Taisto Kasurinen is a Finnish coal miner whose father has just committed suicide and who is framed for a crime he did not commit. In jail, he starts to dream about leaving the country and starting a new life. He escapes from prison but things don't go as planned...\", 'release_date': datetime.date(1988, 10, 21), 'rating_last_updated': datetime.datetime(2023, 3, 29, 6, 21, 3, 825242, tzinfo=datetime.timezone.utc), 'rating_count': 107, 'rating_avg': Decimal('3.49')}\n"
     ]
    }
   ],
   "source": [
    "for obj in movies_qs[:1]:\n",
    "    data = final_df.copy()[final_df['id_alt'] == str(obj.id)]\n",
    "    if data.shape[0] == 1:\n",
    "        og_model_data = model_to_dict(obj)\n",
    "        update_data = data.to_dict('records')[0]\n",
    "        if obj.title == update_data.get('title'):\n",
    "            print(og_model_data)\n",
    "            og_model_data['id'] = update_data['id']\n",
    "            new_model_data = {**og_model_data}\n",
    "            print(new_model_data)\n",
    "            obj.delete()\n",
    "            Movie.objects.create(**new_model_data)\n"
   ]
  },
  {
   "cell_type": "code",
   "execution_count": null,
   "id": "a8c8f14e",
   "metadata": {},
   "outputs": [],
   "source": []
  },
  {
   "cell_type": "code",
   "execution_count": 51,
   "id": "08c5c595",
   "metadata": {},
   "outputs": [],
   "source": [
    "movies_qs = Movie.objects.filter(id__in=alt_id_list)\n",
    "\n",
    "for obj in movies_qs:\n",
    "    data = final_df.copy()[final_df['id_alt'] == str(obj.id)]\n",
    "    if data.shape[0] == 1:\n",
    "        og_model_data = model_to_dict(obj)\n",
    "        update_data = data.to_dict('records')[0]\n",
    "        if obj.title == update_data.get('title'):\n",
    "            og_model_data['id'] = update_data['id']\n",
    "            new_model_data = {**og_model_data}\n",
    "            obj.delete()\n",
    "            Movie.objects.create(**new_model_data)\n"
   ]
  },
  {
   "cell_type": "code",
   "execution_count": 52,
   "id": "c095aa26",
   "metadata": {},
   "outputs": [
    {
     "name": "stdout",
     "output_type": "stream",
     "text": [
      "Rating update took 0:01:10 (70.85282516479492s)\n"
     ]
    }
   ],
   "source": [
    "from ratings.tasks import task_update_movie_ratings\n",
    "task_update_movie_ratings()"
   ]
  },
  {
   "cell_type": "code",
   "execution_count": null,
   "id": "faeb6279",
   "metadata": {},
   "outputs": [],
   "source": []
  }
 ],
 "metadata": {
  "kernelspec": {
   "display_name": "Python 3 (ipykernel)",
   "language": "python",
   "name": "python3"
  },
  "language_info": {
   "codemirror_mode": {
    "name": "ipython",
    "version": 3
   },
   "file_extension": ".py",
   "mimetype": "text/x-python",
   "name": "python",
   "nbconvert_exporter": "python",
   "pygments_lexer": "ipython3",
   "version": "3.11.0"
  }
 },
 "nbformat": 4,
 "nbformat_minor": 5
}
